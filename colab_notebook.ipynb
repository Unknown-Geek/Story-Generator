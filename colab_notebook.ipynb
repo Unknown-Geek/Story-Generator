{
 "cells": [
  {
   "cell_type": "markdown",
   "metadata": {},
   "source": [
    "## Story Generator Local Server"
   ]
  },
  {
   "cell_type": "markdown",
   "id": "8a48ca7b",
   "metadata": {},
   "source": [
    "[Google Notebook](https://colab.research.google.com/drive/1uNygzDR4hISwLOgmDS31hRHfr6KAF7Ib?usp=sharing#scrollTo=unique_id_here)"
   ]
  },
  {
   "cell_type": "code",
   "execution_count": null,
   "id": "6ff7de0e",
   "metadata": {},
   "outputs": [
    {
     "name": "stdout",
     "output_type": "stream",
     "text": [
      "Dependencies installed successfully!\n"
     ]
    }
   ],
   "source": [
    "!pip install -q transformers==4.35.2 accelerate bitsandbytes==0.41.1 huggingface_hub google-generativeai==0.3.1\n",
    "!pip install -q Flask==2.3.2 Pillow==9.5.0 requests==2.30.0 flask-ngrok Flask-CORS==3.0.10 pyngrok\n",
    "!pip install Flask-Cors\n",
    "import os\n",
    "from google.colab import userdata\n",
    "\n",
    "\n",
    "# Use environment variables\n",
    "from huggingface_hub import login\n",
    "login(userdata.get('HUGGINGFACE_TOKEN'))\n",
    "\n",
    "import warnings\n",
    "warnings.filterwarnings(\"ignore\", category=FutureWarning)\n",
    "warnings.filterwarnings(\"ignore\", category=UserWarning)\n",
    "\n",
    "from IPython.display import clear_output\n",
    "clear_output(wait=False)\n",
    "\n",
    "print(\"Dependencies installed successfully!\")"
   ]
  },
  {
   "cell_type": "code",
   "execution_count": null,
   "id": "f6b65679",
   "metadata": {
    "id": "server_cell"
   },
   "outputs": [
    {
     "name": "stdout",
     "output_type": "stream",
     "text": [
      "                                                                                                    \r"
     ]
    },
    {
     "name": "stderr",
     "output_type": "stream",
     "text": [
      "t=2024-11-15T16:32:03+0530 lvl=warn msg=\"ngrok config file found at legacy location, move to XDG location\" xdg_path=C:\\\\Users\\\\Shravan\\\\AppData\\\\Local/ngrok/ngrok.yml legacy_path=C:\\\\Users\\\\Shravan\\\\.ngrok2\\\\ngrok.yml\n"
     ]
    },
    {
     "name": "stdout",
     "output_type": "stream",
     "text": [
      "Starting server...\n",
      "\n",
      "Ngrok tunnel established at: NgrokTunnel: \"https://c271-2409-40f3-101b-f886-7095-d6fa-4e8b-6f3e.ngrok-free.app\" -> \"http://localhost:5000\"\n",
      "Story generation endpoint: NgrokTunnel: \"https://c271-2409-40f3-101b-f886-7095-d6fa-4e8b-6f3e.ngrok-free.app\" -> \"http://localhost:5000\"/generate_story\n",
      "\n",
      " * Serving Flask app '__main__'\n",
      " * Debug mode: off\n"
     ]
    },
    {
     "name": "stderr",
     "output_type": "stream",
     "text": [
      "WARNING: This is a development server. Do not use it in a production deployment. Use a production WSGI server instead.\n",
      " * Running on http://127.0.0.1:5000\n",
      "Press CTRL+C to quit\n"
     ]
    },
    {
     "name": "stdout",
     "output_type": "stream",
     "text": [
      "DEBUG: Image mode: RGB\n"
     ]
    },
    {
     "name": "stderr",
     "output_type": "stream",
     "text": [
      "127.0.0.1 - - [15/Nov/2024 16:34:37] \"POST /generate_story HTTP/1.1\" 400 -\n"
     ]
    },
    {
     "name": "stdout",
     "output_type": "stream",
     "text": [
      "DEBUG: Image processing error: 404 Gemini 1.0 Pro Vision has been deprecated on July 12, 2024. Consider switching to different model, for example gemini-1.5-flash.\n"
     ]
    }
   ],
   "source": [
    "from flask import Flask, request, jsonify\n",
    "from flask_cors import CORS\n",
    "from pyngrok import ngrok\n",
    "import base64\n",
    "from PIL import Image\n",
    "import io\n",
    "import google.generativeai as genai\n",
    "import os\n",
    "from google.colab import userdata\n",
    "\n",
    "# Configure Gemini API\n",
    "GOOGLE_API_KEY = userdata.get('GOOGLE_API_KEY')\n",
    "genai.configure(api_key=GOOGLE_API_KEY)\n",
    "model = genai.GenerativeModel('gemini-pro')\n",
    "\n",
    "# Configure ngrok\n",
    "ngrok.set_auth_token(userdata.get('NGROK_AUTH_TOKEN'))\n",
    "\n",
    "app = Flask(__name__)\n",
    "CORS(app)\n",
    "\n",
    "@app.route('/generate_story', methods=['POST'])\n",
    "def generate_story():\n",
    "    try:\n",
    "        data = request.json\n",
    "        if not data:\n",
    "            return jsonify({'success': False, 'error': 'No data received'}), 400\n",
    "\n",
    "        image_data = data.get('image', '')\n",
    "        genre = data.get('genre', 'fantasy').lower()\n",
    "        word_count = data.get('length', 200)  # Default to 200 words if not specified\n",
    "\n",
    "        if image_data:\n",
    "            try:\n",
    "                # Process image\n",
    "                image_bytes = base64.b64decode(image_data)\n",
    "                image = Image.open(io.BytesIO(image_bytes))\n",
    "\n",
    "                # Convert to RGB if needed\n",
    "                if image.mode in ('RGBA', 'LA'):\n",
    "                    background = Image.new('RGB', image.size, (255, 255, 255))\n",
    "                    background.paste(image, mask=image.split()[-1])\n",
    "                    image = background\n",
    "                elif image.mode != 'RGB':\n",
    "                    image = image.convert('RGB')\n",
    "\n",
    "                # Resize if needed\n",
    "                max_size = (1024, 1024)\n",
    "                if image.size[0] > max_size[0] or image.size[1] > max_size[1]:\n",
    "                    image.thumbnail(max_size, Image.LANCZOS)\n",
    "\n",
    "                # Create model for image analysis\n",
    "                vision_model = genai.GenerativeModel('gemini-1.5-pro')\n",
    "\n",
    "                # Generate image prompt\n",
    "                image_prompt = \"Describe the objects and scene in this image.\"\n",
    "                image_response = vision_model.generate_content([image_prompt, image])\n",
    "                image_description = image_response.text\n",
    "            except Exception as img_error:\n",
    "                return jsonify({'success': False, 'error': f'Image processing error: {str(img_error)}'}), 400\n",
    "        else:\n",
    "            image_description = \"\"\n",
    "\n",
    "        # Define age-appropriate themes for each genre\n",
    "        genre_themes = {\n",
    "            'fantasy': 'magical adventures, friendly creatures, and noble quests',\n",
    "            'adventure': 'exploration, discovery, and overcoming challenges',\n",
    "            'romance': 'friendship, kindness, and family relationships',\n",
    "            'horror': 'mild mystery, spooky (but not scary) situations, and courage',\n",
    "            'mystery': 'solving puzzles, helping others, and uncovering secrets',\n",
    "            'moral story': 'learning life lessons, making good choices, and personal growth'\n",
    "        }\n",
    "\n",
    "        # Craft a more controlled prompt\n",
    "        prompt = f\"\"\"Write a family-friendly {genre} story for children about {genre_themes.get(genre, 'adventure and discovery')}.\n",
    "        Requirements:\n",
    "        - Exactly {word_count} words (important!)\n",
    "        - Age-appropriate content (suitable for ages 8-12)\n",
    "        - No violence, scary elements, or adult themes\n",
    "        - Focus on positive messages and character growth\n",
    "        - Include descriptive but simple language\n",
    "        - Clear beginning, middle, and end structure\n",
    "        - Based on the following image description: {image_description}\n",
    "\n",
    "        Create an engaging story that teaches good values while entertaining young readers.\"\"\"\n",
    "\n",
    "        # Configure safety settings\n",
    "        safety_settings = [\n",
    "            {\n",
    "                \"category\": \"HARM_CATEGORY_DANGEROUS\",\n",
    "                \"threshold\": \"BLOCK_MEDIUM_AND_ABOVE\"\n",
    "            },\n",
    "            {\n",
    "                \"category\": \"HARM_CATEGORY_HARASSMENT\",\n",
    "                \"threshold\": \"BLOCK_MEDIUM_AND_ABOVE\"\n",
    "            },\n",
    "            {\n",
    "                \"category\": \"HARM_CATEGORY_HATE_SPEECH\",\n",
    "                \"threshold\": \"BLOCK_MEDIUM_AND_ABOVE\"\n",
    "            },\n",
    "            {\n",
    "                \"category\": \"HARM_CATEGORY_SEXUALLY_EXPLICIT\",\n",
    "                \"threshold\": \"BLOCK_MEDIUM_AND_ABOVE\"\n",
    "            },\n",
    "            {\n",
    "                \"category\": \"HARM_CATEGORY_DANGEROUS_CONTENT\",\n",
    "                \"threshold\": \"BLOCK_MEDIUM_AND_ABOVE\"\n",
    "            },\n",
    "        ]\n",
    "\n",
    "        # Generate story using Gemini with safety settings\n",
    "        response = model.generate_content(\n",
    "            prompt,\n",
    "            safety_settings=safety_settings,\n",
    "            generation_config={\n",
    "                \"temperature\": 0.7,\n",
    "                \"top_p\": 0.8,\n",
    "                \"top_k\": 40\n",
    "            }\n",
    "        )\n",
    "\n",
    "        if response.text:\n",
    "            return jsonify({'success': True, 'story': response.text})\n",
    "        else:\n",
    "            return jsonify({\n",
    "                'success': False,\n",
    "                'error': 'Story generation failed. Please try again with different parameters.'\n",
    "            }), 500\n",
    "\n",
    "    except Exception as e:\n",
    "        print(f\"Server error: {str(e)}\")\n",
    "        return jsonify({\n",
    "            'success': False,\n",
    "            'error': f'Server error: {str(e)}'\n",
    "        }), 500\n",
    "\n",
    "if __name__ == '__main__':\n",
    "    try:\n",
    "        # Kill any existing ngrok processes\n",
    "        !pkill ngrok\n",
    "        \n",
    "        # Setup ngrok\n",
    "        public_url = ngrok.connect(5000)\n",
    "        print(f'Server running at: {public_url}')\n",
    "        \n",
    "        # Start Flask app\n",
    "        app.run(port=5000)\n",
    "    except Exception as e:\n",
    "        print(f\"Error starting server: {str(e)}\")\n",
    "        print(\"You may need to restart the Colab runtime if ngrok is already running\")\n"
   ]
  }
 ],
 "metadata": {
  "accelerator": "GPU",
  "colab": {
   "gpuType": "T4",
   "provenance": []
  },
  "kernelspec": {
   "display_name": "Python 3",
   "language": "python",
   "name": "python3"
  },
  "language_info": {
   "codemirror_mode": {
    "name": "ipython",
    "version": 3
   },
   "file_extension": ".py",
   "mimetype": "text/x-python",
   "name": "python",
   "nbconvert_exporter": "python",
   "pygments_lexer": "ipython3",
   "version": "3.10.0"
  }
 },
 "nbformat": 4,
 "nbformat_minor": 5
}
