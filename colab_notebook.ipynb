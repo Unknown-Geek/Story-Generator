{
 "cells": [
  {
   "cell_type": "code",
   "execution_count": null,
   "metadata": {
    "vscode": {
     "languageId": "plaintext"
    }
   },
   "outputs": [],
   "source": [
    "!pip install pyngrok flask-cors transformers torch Pillow requests"
   ]
  },
  {
   "cell_type": "code",
   "execution_count": null,
   "metadata": {
    "vscode": {
     "languageId": "plaintext"
    }
   },
   "outputs": [],
   "source": [
    "# Download and set up ngrok\n",
    "!wget https://bin.equinox.io/c/4VmDzA7iaHb/ngrok-stable-linux-amd64.zip\n",
    "!unzip -o ngrok-stable-linux-amd64.zip\n",
    "\n",
    "from pyngrok import ngrok, conf\n",
    "import time\n",
    "\n",
    "# Set auth token and config\n",
    "    print(\"✓ Ngrok authentication successful\")\n",
    "    \n",
    "except Exception as e:\n",
    "    print(f\"✗ Error setting up ngrok: {str(e)}\")\n",
    "    raise e\n"
   ]
  },
  {
   "cell_type": "code",
   "execution_count": null,
   "metadata": {
    "vscode": {
     "languageId": "plaintext"
    }
   },
   "outputs": [],
   "source": [
    "from flask import Flask, request, jsonify\n",
    "from flask_cors import CORS\n",
    "from transformers import pipeline, AutoModelForCausalLM, AutoTokenizer\n",
    "import torch\n",
    "from PIL import Image\n",
    "import io\n",
    "import base64\n",
    "\n",
    "app = Flask(__name__)\n",
    "CORS(app)\n",
    "\n",
    "# ... (rest of your existing model loading and route code) ...\n",
    "\n",
    "def start_server():\n",
    "    try:\n",
    "        # Kill any existing ngrok tunnels\n",
    "        ngrok.kill()\n",
    "        \n",
    "        # Create new tunnel\n",
    "        public_url = ngrok.connect(5000)\n",
    "        print(f'Public URL: {public_url}')\n",
    "        \n",
    "        # Start Flask app\n",
    "        app.run(port=5000)\n",
    "    except Exception as e:\n",
    "        print(f'Error starting server: {str(e)}')\n",
    "        ngrok.kill()\n",
    "\n",
    "if __name__ == '__main__':\n",
    "    # Load models globally\n",
    "    print(\"Loading AI models...\")\n",
    "    try:\n",
    "        image_captioner, story_tokenizer, story_model, device = load_models()\n",
    "        print(\"Starting the server...\")\n",
    "        start_server()\n",
    "    except Exception as e:\n",
    "        print(f\"Error: {str(e)}\")\n",
    "        ngrok.kill()"
   ]
  }
 ],
 "metadata": {
  "language_info": {
   "name": "python"
  }
 },
 "nbformat": 4,
 "nbformat_minor": 2
}
