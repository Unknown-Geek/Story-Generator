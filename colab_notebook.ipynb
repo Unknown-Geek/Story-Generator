{
 "cells": [
  {
   "cell_type": "markdown",
   "metadata": {},
   "source": [
    "## Story Generator Colab Server\n",
    "https://colab.research.google.com/drive/1uNygzDR4hISwLOgmDS31hRHfr6KAF7Ib?usp=sharing"
   ]
  },
  {
   "cell_type": "code",
   "execution_count": null,
   "metadata": {},
   "outputs": [],
   "source": [
    "!pip install -q transformers==4.35.2 accelerate bitsandbytes==0.41.1 huggingface_hub google-generativeai==0.3.1\n",
    "!pip install -q Flask==2.3.2 Pillow==9.5.0 requests==2.30.0 flask-ngrok Flask-CORS==3.0.10 pyngrok\n",
    "!pip install Flask-Cors\n",
    "!pip install -q python-dotenv\n",
    "\n",
    "from dotenv import load_dotenv\n",
    "import os\n",
    "\n",
    "# Load environment variables\n",
    "load_dotenv()\n",
    "\n",
    "# Use environment variables\n",
    "from huggingface_hub import login\n",
    "login(os.getenv('HUGGINGFACE_API_KEY'))\n",
    "\n",
    "import warnings\n",
    "warnings.filterwarnings(\"ignore\", category=FutureWarning)\n",
    "warnings.filterwarnings(\"ignore\", category=UserWarning)\n",
    "\n",
    "from IPython.display import clear_output\n",
    "clear_output(wait=False)\n",
    "\n",
    "print(\"Dependencies installed successfully!\")"
   ]
  },
  {
   "cell_type": "code",
   "execution_count": null,
   "metadata": {
    "vscode": {
     "languageId": "plaintext"
    }
   },
   "outputs": [],
   "source": [
    "from flask import Flask, request, jsonify\n",
    "from flask_cors import CORS\n",
    "from pyngrok import ngrok\n",
    "import base64\n",
    "from PIL import Image\n",
    "import io\n",
    "import google.generativeai as genai\n",
    "import os\n",
    "from google.colab import userdata\n",
    "\n",
    "# Configure Gemini API\n",
    "GOOGLE_API_KEY = userdata.get('GOOGLE_API_KEY')\n",
    "genai.configure(api_key=GOOGLE_API_KEY)\n",
    "model = genai.GenerativeModel('gemini-pro')\n",
    "\n",
    "# Configure ngrok\n",
    "ngrok.set_auth_token(userdata.get('NGROK_AUTH_TOKEN'))\n",
    "\n",
    "app = Flask(__name__)\n",
    "CORS(app)\n",
    "\n",
    "@app.route('/generate_story', methods=['POST'])\n",
    "def generate_story():\n",
    "    try:\n",
    "        data = request.json\n",
    "        if not data:\n",
    "            return jsonify({'success': False, 'error': 'No data received'}), 400\n",
    "        \n",
    "        genre = data.get('genre', 'fantasy')\n",
    "        length = data.get('length', 'short')\n",
    "        \n",
    "        # Craft prompt for Gemini\n",
    "        prompt = f\"\"\"Write a {genre.lower()} story with the following elements:\n",
    "        - {length} length\n",
    "        - Clear beginning, middle, and end\n",
    "        - Age-appropriate content\n",
    "        - Emotional resonance\n",
    "        - Engaging plot and characters\n",
    "        \n",
    "        The story should be creative and original. Make it captivating for readers.\"\"\"\n",
    "\n",
    "        # Generate story using Gemini\n",
    "        response = model.generate_content(prompt)\n",
    "        \n",
    "        if response.text:\n",
    "            return jsonify({'success': True, 'story': response.text})\n",
    "        else:\n",
    "            return jsonify({'success': False, 'error': 'Failed to generate story'}), 500\n",
    "\n",
    "    except Exception as e:\n",
    "        print(f\"Server error: {str(e)}\")\n",
    "        return jsonify({'success': False, 'error': f'Server error: {str(e)}'}), 500\n",
    "\n",
    "if __name__ == '__main__':\n",
    "    public_url = ngrok.connect(5000)\n",
    "    api_url = f\"{public_url.public_url}/generate_story\"\n",
    "    print(f'Server running at: {api_url}')\n",
    "    \n",
    "    app.run(port=5000)"
   ]
  }
 ],
 "metadata": {
  "language_info": {
   "name": "python"
  }
 },
 "nbformat": 4,
 "nbformat_minor": 2
}
